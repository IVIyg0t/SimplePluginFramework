{
 "cells": [
  {
   "cell_type": "markdown",
   "metadata": {},
   "source": [
    "What better way to demonstrate how this works than with a simple hello world?"
   ]
  },
  {
   "cell_type": "code",
   "execution_count": 3,
   "metadata": {},
   "outputs": [],
   "source": [
    "from spf.PluginMount import PluginMount\n",
    "from abc import abstractmethod"
   ]
  },
  {
   "cell_type": "code",
   "execution_count": 4,
   "metadata": {},
   "outputs": [],
   "source": [
    "class HelloMountPoint(metaclass=PluginMount):\n",
    "    entry_point = \"hello_world\"\n",
    "\n",
    "    @property\n",
    "    @abstractmethod\n",
    "    def hello(self) -> str:\n",
    "        pass"
   ]
  },
  {
   "cell_type": "code",
   "execution_count": 5,
   "metadata": {},
   "outputs": [],
   "source": [
    "class HelloWorldPlugin(HelloMountPoint):\n",
    "    @property\n",
    "    def hello(self) -> str:\n",
    "        return \"Hello, world.\""
   ]
  },
  {
   "cell_type": "code",
   "execution_count": 6,
   "metadata": {},
   "outputs": [],
   "source": [
    "class HelloUniversePlugin(HelloMountPoint):\n",
    "    @property\n",
    "    def hello(self) -> str:\n",
    "        return \"Hello, universe.\""
   ]
  },
  {
   "cell_type": "code",
   "execution_count": 7,
   "metadata": {},
   "outputs": [
    {
     "data": {
      "text/plain": [
       "{'HelloWorldPlugin': __main__.HelloWorldPlugin,\n",
       " 'HelloUniversePlugin': __main__.HelloUniversePlugin}"
      ]
     },
     "execution_count": 7,
     "metadata": {},
     "output_type": "execute_result"
    }
   ],
   "source": [
    "HelloMountPoint.plugins"
   ]
  },
  {
   "cell_type": "code",
   "execution_count": 11,
   "metadata": {},
   "outputs": [
    {
     "name": "stdout",
     "output_type": "stream",
     "text": [
      "Hello, world.\n",
      "Hello, universe.\n"
     ]
    }
   ],
   "source": [
    "plugins = HelloMountPoint.plugins\n",
    "\n",
    "for name, plugin in plugins.items():\n",
    "    print(plugin().hello)"
   ]
  },
  {
   "cell_type": "code",
   "execution_count": null,
   "metadata": {},
   "outputs": [],
   "source": []
  }
 ],
 "metadata": {
  "kernelspec": {
   "display_name": "SimplePluginFramework-yzJUuiOW",
   "language": "python",
   "name": "python3"
  },
  "language_info": {
   "codemirror_mode": {
    "name": "ipython",
    "version": 3
   },
   "file_extension": ".py",
   "mimetype": "text/x-python",
   "name": "python",
   "nbconvert_exporter": "python",
   "pygments_lexer": "ipython3",
   "version": "3.11.6"
  }
 },
 "nbformat": 4,
 "nbformat_minor": 2
}
